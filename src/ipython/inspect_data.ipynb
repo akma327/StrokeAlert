{
 "cells": [
  {
   "cell_type": "code",
   "execution_count": 4,
   "metadata": {
    "collapsed": false
   },
   "outputs": [],
   "source": [
    "import sys\n",
    "import os\n",
    "import numpy as np\n",
    "import pandas as pd\n"
   ]
  },
  {
   "cell_type": "code",
   "execution_count": 11,
   "metadata": {
    "collapsed": true
   },
   "outputs": [],
   "source": [
    "data_table = \"../../data/IST_corrected.csv\"\n",
    "variable_labels = \"../../data/IST_variables.csv\"\n"
   ]
  },
  {
   "cell_type": "code",
   "execution_count": 20,
   "metadata": {
    "collapsed": true
   },
   "outputs": [],
   "source": [
    "def read_data(path):\n",
    "    \"\"\"\n",
    "    Read and process stroke data table\n",
    "    \"\"\"\n",
    "    f = open(path, 'r')\n",
    "    i = 0\n",
    "    for line in f:\n",
    "        if (i > 10): break\n",
    "        i +=1\n",
    "        print line\n",
    "    "
   ]
  },
  {
   "cell_type": "code",
   "execution_count": 21,
   "metadata": {
    "collapsed": false
   },
   "outputs": [
    {
     "name": "stdout",
     "output_type": "stream",
     "text": [
      "HOSPNUM,RDELAY,RCONSC,SEX,AGE,RSLEEP,RATRIAL,RCT,RVISINF,RHEP24,RASP3,RSBP,RDEF1,RDEF2,RDEF3,RDEF4,RDEF5,RDEF6,RDEF7,RDEF8,STYPE,RDATE,HOURLOCAL,MINLOCAL,DAYLOCAL,RXASP,RXHEP,DASP14,DASPLT,DLH14,DMH14,DHH14,ONDRUG,DSCH,DIVH,DAP,DOAC,DGORM,DSTER,DCAA,DHAEMD,DCAREND,DTHROMB,DMAJNCH,DMAJNCHD,DMAJNCHX,DSIDE,DSIDED,DSIDEX,DDIAGISC,DDIAGHA,DDIAGUN,DNOSTRK,DNOSTRKX,DRSISC,DRSISCD,DRSH,DRSHD,DRSUNK,DRSUNKD,DPE,DPED,DALIVE,DALIVED,DPLACE,DDEAD,DDEADD,DDEADC,DDEADX,FDEAD,FLASTD,FDEADD,FDEADC,FDEADX,FRECOVER,FDENNIS,FPLACE,FAP,FOAC,FU1_RECD,FU2_DONE,COUNTRY,CNTRYNUM,FU1_COMP,NCCODE,CMPLASP,CMPLHEP,DIED,TD,EXPDD,EXPD6,EXPD14,SET14D,ID14,OCCODE,DEAD1,DEAD2,DEAD3,DEAD4,DEAD5,DEAD6,DEAD7,DEAD8,H14,ISC14,NK14,STRK14,HTI14,PE14,DVT14,TRAN14,NCB14\r\n",
      "\n",
      "1,17,D,M,69,Y,,Y,Y,,,140,N,N,N,Y,N,Y,N,Y,PACS,sty-91,99,99,4,Y,N,Y,Y,N,,N,14,,,N,N,N,N,N,N,,,N,,,N,,,Y,N,N,N,,N,,N,,,,N,,N,,,N,,0,,N,,,,,N,Y,E,,,14,187,UK,27,,13,Y,Y,0,187,0.698,0.2344,0.1054,1,0,2,0,0,0,0,0,0,0,0,0,0,0,0,0,0,0,0,0\r\n",
      "\n",
      "1,10,F,M,76,Y,,Y,N,,,150,Y,Y,Y,N,N,N,N,N,LACS,sty-91,99,99,7,N,L,N,Y,Y,,N,14,,,N,N,N,N,Y,N,,,N,,,N,,,Y,N,N,N,,N,,N,,,,N,,N,,,N,,0,,N,,,,,N,Y,A,,,16,192,UK,27,,,Y,Y,0,192,0.5389,0.1555,0.0421,1,0,2,0,0,0,0,0,0,0,0,0,0,0,0,0,0,0,0,0\r\n",
      "\n",
      "1,43,F,F,71,N,,Y,N,,,170,Y,Y,Y,N,N,N,N,N,LACS,sty-91,99,99,3,Y,N,Y,Y,N,,N,11,,,N,N,N,N,N,N,,,N,,,N,,,Y,N,N,N,,N,,N,,,,N,,Y,11,,N,,0,,N,,,,,N,Y,A,,,11,189,UK,27,,,Y,Y,0,189,0.5275,0.1009,0.0323,1,0,2,0,0,0,0,0,0,0,0,0,0,0,0,0,0,0,0,0\r\n",
      "\n",
      "1,6,F,M,81,N,,N,N,,,170,N,N,N,Y,N,N,N,N,PACS,sty-91,99,99,7,N,H,N,Y,N,,Y,14,,,N,N,N,N,Y,N,,,N,,,N,,,Y,N,N,N,,N,,N,,,,N,,Y,16,,N,,0,,N,,,,,Y,N,A,,,23,183,UK,27,,,Y,Y,0,183,0.4021,0.1147,0.0244,1,0,4,0,0,0,0,0,0,0,0,0,0,0,0,0,0,0,0,0\r\n",
      "\n",
      "4,20,F,M,78,N,,N,N,,,170,Y,Y,Y,N,N,N,N,N,LACS,lut-91,99,99,6,Y,H,Y,Y,N,,Y,14,,,N,N,N,N,N,N,,,N,,,N,,,Y,N,N,N,,N,,N,,,,N,,N,,,N,,0,,N,,,,,N,Y,E,,,17,214,UK,27,,,Y,Y,0,214,0.56,0.1709,0.0441,1,0,2,0,0,0,0,0,0,0,0,0,0,0,0,0,0,0,0,0\r\n",
      "\n",
      "1,39,F,M,54,N,,Y,N,,,135,Y,Y,Y,N,N,N,N,N,LACS,lut-91,99,99,2,N,N,N,Y,N,,N,7,,,N,N,N,N,N,N,,,N,,,N,,,Y,N,N,N,,N,,N,,,,N,,Y,7,,N,,0,,N,,,,,N,N,A,,,16,185,UK,27,,,Y,Y,0,185,0.3132,0.0471,0.0244,1,0,3,0,0,0,0,0,0,0,0,0,0,0,0,0,0,0,0,0\r\n",
      "\n",
      "1,4,F,F,77,N,,N,N,,,140,Y,Y,Y,N,N,N,Y,N,POCS,lut-91,99,99,1,Y,N,Y,Y,N,,N,14,,,N,N,N,N,N,N,,,N,,,Y,14,NOSE BLEED 15 MINS,N,N,N,Y,,N,,N,,,,N,,N,,,N,,0,,N,,,,,N,N,A,,,15,194,UK,27,15,,Y,Y,0,194,0.7285,0.1873,0.053,1,0,3,0,0,0,0,0,0,0,0,0,0,0,0,0,0,0,0,1\r\n",
      "\n",
      "1,24,F,M,23,N,,Y,N,,,120,N,N,N,N,N,N,N,Y,OTH,lut-91,99,99,2,N,L,N,N,Y,,N,11,,,N,N,N,N,N,N,,,N,,,N,,,Y,N,N,N,,N,,N,,,,N,,Y,11,,N,,0,,N,,,,,N,N,A,,,37,193,UK,27,,,Y,Y,0,193,0.15,0.0038,0.0054,1,0,3,0,0,0,0,0,0,0,0,0,0,0,0,0,0,0,0,0\r\n",
      "\n",
      "1,18,F,M,47,N,,N,N,,,150,N,N,N,N,N,N,N,Y,OTH,lut-91,99,99,2,Y,H,Y,Y,N,,Y,5,,,N,N,N,N,N,N,,,N,,,N,,,Y,N,N,N,,N,,N,,,,N,,Y,5,,N,,0,,N,,,,,N,N,A,,,23,193,UK,27,,,Y,Y,0,193,0.1334,0.0162,0.0102,1,0,3,0,0,0,0,0,0,0,0,0,0,0,0,0,0,0,0,0\r\n",
      "\n",
      "1,13,F,M,81,Y,,N,N,,,170,N,N,N,N,N,Y,N,Y,PACS,lut-91,99,99,2,N,N,N,N,N,,N,14,,,N,N,N,N,N,N,,,N,,,N,,,Y,N,N,N,,N,,N,,,,N,,Y,14,,N,,0,,N,,,,,N,Y,A,,,42,189,UK,27,,,Y,Y,0,189,0.4964,0.1476,0.0337,1,0,2,0,0,0,0,0,0,0,0,0,0,0,0,0,0,0,0,0\r\n",
      "\n"
     ]
    }
   ],
   "source": [
    "read_data(data_table)"
   ]
  },
  {
   "cell_type": "code",
   "execution_count": null,
   "metadata": {
    "collapsed": true
   },
   "outputs": [],
   "source": []
  }
 ],
 "metadata": {
  "kernelspec": {
   "display_name": "Python 2",
   "language": "python",
   "name": "python2"
  },
  "language_info": {
   "codemirror_mode": {
    "name": "ipython",
    "version": 2
   },
   "file_extension": ".py",
   "mimetype": "text/x-python",
   "name": "python",
   "nbconvert_exporter": "python",
   "pygments_lexer": "ipython2",
   "version": "2.7.11"
  }
 },
 "nbformat": 4,
 "nbformat_minor": 0
}
