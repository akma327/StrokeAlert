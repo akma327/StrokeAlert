{
 "cells": [
  {
   "cell_type": "code",
   "execution_count": 30,
   "metadata": {},
   "outputs": [],
   "source": [
    "import sys\n",
    "import os\n",
    "import numpy as np\n",
    "import pandas as pd\n",
    "import csv"
   ]
  },
  {
   "cell_type": "code",
   "execution_count": 207,
   "metadata": {
    "collapsed": true
   },
   "outputs": [],
   "source": [
    "data_table = \"../../data/IST_corrected.csv\"\n",
    "variable_labels = \"../../data/IST_variables.csv\"\n",
    "cleaned_table = \"../../data/IST_cleaned.csv\"\n"
   ]
  },
  {
   "cell_type": "code",
   "execution_count": 210,
   "metadata": {},
   "outputs": [],
   "source": [
    "def contains_non_numeric_data(col):\n",
    "    for entry in col:\n",
    "        entry = entry.replace(\".\", \"0\")\n",
    "        if (entry != \"\" and entry != \".\" and not entry.isdigit()):\n",
    "            return True\n",
    "    return False\n",
    "\n",
    "def fill_numeric_entries(col):\n",
    "    numeric_entries = []\n",
    "    for entry in col:\n",
    "        if(entry != \"\"):\n",
    "            numeric_entries.append(float(entry))\n",
    "    average = np.average(numeric_entries)\n",
    "    filled_col = []\n",
    "    for entry in col:\n",
    "        if(entry != \"\"):\n",
    "            filled_col.append(float(entry))\n",
    "        else:\n",
    "            filled_col.append(average)\n",
    "    return filled_col\n",
    "        \n",
    "\n",
    "def read_data(path):\n",
    "    \"\"\"\n",
    "    Read and process stroke data table\n",
    "    \"\"\"\n",
    "    \n",
    "    ### Open entire stroke data table\n",
    "    with open(path, 'rU') as f:\n",
    "        reader = csv.reader(f, delimiter=',')\n",
    "        d = list(reader)\n",
    "    darr = np.array(d)\n",
    "    \n",
    "    ### Get the stroke column labels\n",
    "    column_labels = list(darr[0,:])\n",
    "    column_label_dict = {label:i for i, label in enumerate(column_labels)}\n",
    "\n",
    "    ### Delete data columns: RDATE, HOURLOCAL, MINLOCAL, DAYLOCAL\n",
    "    column_mask_labels = [\"RDATE\", \"HOURLOCAL\", \"MINLOCAL\", \"DAYLOCAL\", \"DMAJNCHX\", \"DSIDEX\", \"DNOSTRKX\", \"DDEADX\", \"FDEADX\"]\n",
    "    column_mask_idx = [column_label_dict[l] for l in column_mask_labels]\n",
    "    print \"col_mask\", column_mask_idx\n",
    "    darr = np.delete(darr, column_mask_idx, axis=1)\n",
    "    \n",
    "    ### Turn every entry in the data file into a numeric. \n",
    "    ### If you have [\"Y, \"N\"] as the options then convert to [0,1]\n",
    "    ### Store a map between {SEX: (['F', 'M'] [0,1]), ...}\n",
    "    alpha_to_numeric_label_dict = {}\n",
    "    num_col = darr.shape[1]\n",
    "    for col_idx in range(num_col):\n",
    "        col_data = darr[:,col_idx]\n",
    "        col_header, col_entries = col_data[0], col_data[1:]\n",
    "        if(contains_non_numeric_data(col_entries)):\n",
    "            unique_labels = list(np.unique(col_entries))\n",
    "            alpha_to_numeric_label_dict[col_header] = (unique_labels, range(len(unique_labels)))\n",
    "            col_entries = [unique_labels.index(entry) for entry in col_entries]\n",
    "            darr[:, col_idx] = [col_header] + col_entries\n",
    "#             print \"apply rules\", col_idx, col_header, unique_labels, [col_header] + col_entries[:10]\n",
    "        else:\n",
    "            col_entries = fill_numeric_entries(col_entries)\n",
    "            darr[:, col_idx] = [col_header] + map(float, col_entries)\n",
    "#             print col_idx, col_header, map(float, col_entries[:10])\n",
    "        \n",
    "#         print col_idx, col_header, map(int, np.unique(col_entries[:10]))\n",
    "    \n",
    "#     ### Generate rules for every column\n",
    "#     print \"\\n\\n### Convert all data entries to numeric\"\n",
    "#     for col_label in column_labels:\n",
    "#         col_idx = column_label_dict[col_label]\n",
    "#         small_darr = np.unique(darr[:, col_idx])\n",
    "#         print col_idx, col_label, small_darr\n",
    "\n",
    "    print alpha_to_numeric_label_dict\n",
    "    print darr[0,:]\n",
    "    print darr[1,:]\n",
    "    \n",
    "    dfout = pd.DataFrame(darr)\n",
    "    dfout.to_csv(cleaned_table)"
   ]
  },
  {
   "cell_type": "code",
   "execution_count": 211,
   "metadata": {},
   "outputs": [
    {
     "name": "stdout",
     "output_type": "stream",
     "text": [
      "col_mask [21, 22, 23, 24, 45, 48, 53, 68, 73]\n",
      "{'RDEF8': (['C', 'N', 'Y'], [0, 1, 2]), 'RXASP': (['N', 'Y'], [0, 1]), 'RVISINF': (['N', 'Y'], [0, 1]), 'DHH14': (['', 'N', 'Y'], [0, 1, 2]), 'DCAA': (['', 'N', 'U', 'Y'], [0, 1, 2, 3]), 'RCT': (['N', 'Y'], [0, 1]), 'RDEF1': (['C', 'N', 'Y'], [0, 1, 2]), 'RDEF2': (['C', 'N', 'Y'], [0, 1, 2]), 'RDEF3': (['C', 'N', 'Y'], [0, 1, 2]), 'RDEF4': (['C', 'N', 'Y'], [0, 1, 2]), 'DASP14': (['', 'N', 'U', 'Y', 'n', 'y'], [0, 1, 2, 3, 4, 5]), 'RDEF6': (['C', 'N', 'Y'], [0, 1, 2]), 'RDEF7': (['C', 'N', 'Y'], [0, 1, 2]), 'DCAREND': (['', 'N', 'U', 'Y'], [0, 1, 2, 3]), 'DDEAD': (['', 'N', 'U', 'Y'], [0, 1, 2, 3]), 'RATRIAL': (['', 'N', 'Y'], [0, 1, 2]), 'DRSH': (['', 'N', 'U', 'Y'], [0, 1, 2, 3]), 'FRECOVER': (['', 'N', 'U', 'Y'], [0, 1, 2, 3]), 'RXHEP': (['H', 'L', 'M', 'N'], [0, 1, 2, 3]), 'STYPE': (['LACS', 'OTH', 'PACS', 'POCS', 'TACS'], [0, 1, 2, 3, 4]), 'FAP': (['', 'N', 'U', 'Y', 'n'], [0, 1, 2, 3, 4]), 'DPE': (['', 'N', 'U', 'Y'], [0, 1, 2, 3]), 'DASPLT': (['', 'N', 'U', 'Y'], [0, 1, 2, 3]), 'DNOSTRK': (['', 'N', 'U', 'Y'], [0, 1, 2, 3]), 'SEX': (['F', 'M'], [0, 1]), 'DAP': (['', 'N', 'U', 'Y'], [0, 1, 2, 3]), 'DTHROMB': (['', 'N', 'U', 'Y'], [0, 1, 2, 3]), 'DMAJNCH': (['', 'N', 'U', 'Y'], [0, 1, 2, 3]), 'CMPLASP': (['', 'N', 'Y'], [0, 1, 2]), 'DDIAGUN': (['', 'N', 'U', 'Y'], [0, 1, 2, 3]), 'DGORM': (['', 'N', 'U', 'Y'], [0, 1, 2, 3]), 'DMH14': (['', 'N', 'U', 'Y'], [0, 1, 2, 3]), 'DHAEMD': (['', 'N', 'U', 'Y'], [0, 1, 2, 3]), 'FOAC': (['', 'N', 'U', 'Y'], [0, 1, 2, 3]), 'DIVH': (['', 'N', 'U', 'Y'], [0, 1, 2, 3]), 'DLH14': (['', 'N', 'U', 'Y'], [0, 1, 2, 3]), 'DDIAGHA': (['', 'N', 'U', 'Y'], [0, 1, 2, 3]), 'DSTER': (['', 'N', 'U', 'Y'], [0, 1, 2, 3]), 'RDEF5': (['C', 'N', 'Y'], [0, 1, 2]), 'NCCODE': (['', '1', '10', '11', '11A', '11B', '11C', '11D', '11E', '11F', '12', '13', '14', '14A', '14B', '14C', '14D', '14E', '14F', '2', '3', '4', '6', '7', '8', '9'], [0, 1, 2, 3, 4, 5, 6, 7, 8, 9, 10, 11, 12, 13, 14, 15, 16, 17, 18, 19, 20, 21, 22, 23, 24, 25]), 'DPLACE': (['', 'A', 'B', 'C', 'D', 'E', 'U'], [0, 1, 2, 3, 4, 5, 6]), 'RSLEEP': (['N', 'Y'], [0, 1]), 'DSCH': (['', 'N', 'U', 'Y'], [0, 1, 2, 3]), 'CMPLHEP': (['', 'N', 'Y'], [0, 1, 2]), 'FPLACE': (['', 'A', 'B', 'C', 'D', 'E', 'U'], [0, 1, 2, 3, 4, 5, 6]), 'COUNTRY': (['ARGE', 'AUSL', 'AUST', 'BELG', 'BRAS', 'CANA', 'CHIL', 'CZEC', 'DENM', 'EIRE', 'FINL', 'FRAN', 'GREE', 'HONG', 'HUNG', 'INDI', 'ISRA', 'ITAL', 'JAPA', 'NETH', 'NEW', 'NORW', 'POLA', 'PORT', 'ROMA', 'SING', 'SLOK', 'SLOV', 'SOUT', 'SPAI', 'SRI', 'SWED', 'SWIT', 'TURK', 'UK', 'USA'], [0, 1, 2, 3, 4, 5, 6, 7, 8, 9, 10, 11, 12, 13, 14, 15, 16, 17, 18, 19, 20, 21, 22, 23, 24, 25, 26, 27, 28, 29, 30, 31, 32, 33, 34, 35]), 'DOAC': (['', 'N', 'U', 'Y'], [0, 1, 2, 3]), 'RASP3': (['', 'N', 'Y'], [0, 1, 2]), 'DRSUNK': (['', 'N', 'U', 'Y'], [0, 1, 2, 3]), 'DSIDE': (['', 'N', 'U', 'Y'], [0, 1, 2, 3]), 'RHEP24': (['', 'N', 'Y'], [0, 1, 2]), 'FDEAD': (['', 'N', 'U', 'Y'], [0, 1, 2, 3]), 'FDENNIS': (['', 'N', 'U', 'Y'], [0, 1, 2, 3]), 'DALIVE': (['', 'N', 'U', 'Y'], [0, 1, 2, 3]), 'DDIAGISC': (['', 'N', 'U', 'Y', 'u'], [0, 1, 2, 3, 4]), 'DRSISC': (['', 'N', 'U', 'Y'], [0, 1, 2, 3]), 'RCONSC': (['D', 'F', 'U'], [0, 1, 2])}\n",
      "['HOSPNUM' 'RDELAY' 'RCONSC' 'SEX' 'AGE' 'RSLEEP' 'RATRIAL' 'RCT' 'RVISINF'\n",
      " 'RHEP24' 'RASP3' 'RSBP' 'RDEF1' 'RDEF2' 'RDEF3' 'RDEF4' 'RDEF5' 'RDEF6'\n",
      " 'RDEF7' 'RDEF8' 'STYPE' 'RXASP' 'RXHEP' 'DASP14' 'DASPLT' 'DLH14' 'DMH14'\n",
      " 'DHH14' 'ONDRUG' 'DSCH' 'DIVH' 'DAP' 'DOAC' 'DGORM' 'DSTER' 'DCAA'\n",
      " 'DHAEMD' 'DCAREND' 'DTHROMB' 'DMAJNCH' 'DMAJNCHD' 'DSIDE' 'DSIDED'\n",
      " 'DDIAGISC' 'DDIAGHA' 'DDIAGUN' 'DNOSTRK' 'DRSISC' 'DRSISCD' 'DRSH' 'DRSHD'\n",
      " 'DRSUNK' 'DRSUNKD' 'DPE' 'DPED' 'DALIVE' 'DALIVED' 'DPLACE' 'DDEAD'\n",
      " 'DDEADD' 'DDEADC' 'FDEAD' 'FLASTD' 'FDEADD' 'FDEADC' 'FRECOVER' 'FDENNIS'\n",
      " 'FPLACE' 'FAP' 'FOAC' 'FU1_RECD' 'FU2_DONE' 'COUNTRY' 'CNTRYNUM'\n",
      " 'FU1_COMP' 'NCCODE' 'CMPLASP' 'CMPLHEP' 'DIED' 'TD' 'EXPDD' 'EXPD6'\n",
      " 'EXPD14' 'SET14D' 'ID14' 'OCCODE' 'DEAD1' 'DEAD2' 'DEAD3' 'DEAD4' 'DEAD5'\n",
      " 'DEAD6' 'DEAD7' 'DEAD8' 'H14' 'ISC14' 'NK14' 'STRK14' 'HTI14' 'PE14'\n",
      " 'DVT14' 'TRAN14' 'NCB14']\n",
      "['1.0' '17.0' '0' '1' '69.0' '1' '0' '1' '1' '0' '0' '140.0' '1' '1' '1'\n",
      " '2' '1' '2' '1' '2' '2' '1' '3' '3' '3' '1' '0' '1' '14.0' '0' '0' '1' '1'\n",
      " '1' '1' '1' '1' '0' '0' '1' '9.59060402685' '1' '7.62401263823' '3' '1'\n",
      " '1' '1' '1' '5.69491525424' '1' '6.53608247423' '0' '7.28461538462' '1'\n",
      " '10.64' '1' '13.1409610541' '0' '1' '9.831366765' '0.0' '1'\n",
      " '81.1724137931' '46.6764841233' '3.44179651696' '1' '3' '5' '0' '0' '14.0'\n",
      " '187.0' '34' '27.0' '31.3662008964' '11' '2' '2' '0.0' '187.0' '0.698'\n",
      " '0.2344' '0.1054' '1.0' '0.0' '2.0' '0.0' '0.0' '0.0' '0.0' '0.0' '0.0'\n",
      " '0.0' '0.0' '0.0' '0.0' '0.0' '0.0' '0.0' '0.0' '0.0' '0.0' '0.0']\n"
     ]
    }
   ],
   "source": [
    "read_data(data_table)"
   ]
  },
  {
   "cell_type": "code",
   "execution_count": null,
   "metadata": {
    "collapsed": true
   },
   "outputs": [],
   "source": []
  }
 ],
 "metadata": {
  "kernelspec": {
   "display_name": "Python 2",
   "language": "python",
   "name": "python2"
  },
  "language_info": {
   "codemirror_mode": {
    "name": "ipython",
    "version": 2
   },
   "file_extension": ".py",
   "mimetype": "text/x-python",
   "name": "python",
   "nbconvert_exporter": "python",
   "pygments_lexer": "ipython2",
   "version": "2.7.10"
  }
 },
 "nbformat": 4,
 "nbformat_minor": 1
}
